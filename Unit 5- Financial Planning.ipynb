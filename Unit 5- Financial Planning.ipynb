# Unit 5 - Financial Planning

# Initial imports
import os
import requests
import pandas as pd
from dotenv import load_dotenv
import alpaca_trade_api as tradeapi
from MCForecastTools import MCSimulation

%matplotlib inline


# Load .env enviroment variables
load_dotenv()


## Part 1 - Personal Finance Planner
Collect Crypto Prices Using the requests Library

# Set current amount of crypto assets
crypto_assets = {
    "crypto": [1.2, 5.2]
}

# Set the tickers
tickers = ["BTC", "ETH"]

# Create the shares DataFrame
df_crypto = pd.DataFrame(crypto_assets, index=tickers)

# Display shares data
df_crypto


# Setup Alpaca API environment
alpaca_api_key = os.getenv("ALPACA_API_KEY")
alpaca_secret_key = os.getenv("ALPACA_SECRET_KEY")

api = tradeapi.REST(
    alpaca_api_key,
    alpaca_secret_key,
    api_version="v2"
)


# Crypto API URLs
btc_url = "https://api.alternative.me/v2/ticker/Bitcoin/?convert=USD"
eth_url = "https://api.alternative.me/v2/ticker/Ethereum/?convert=USD"

# Fetch current BTC price
btc_response_data = requests.get(btc_url).json()      

# Output data
btc_response_data


# Fetch current ETH price
eth_response_data = requests.get(eth_url).json()

# Output data
eth_response_data


# Set timeframe to '1D'
timeframe = "1D"

# Set start and end datetimes of 1 year, between now and 365 days ago.
start_date = pd.Timestamp("2020-11-01", tz="Australia/Sydney").isoformat()
end_date = pd.Timestamp("2021-11-01", tz="Australia/Sydney").isoformat()

# Set the tickers
tickers = ["BTC", "ETH"]

# Get current price data for BTC and ETH
df_crypto = api.get_barset(
    tickers,
    timeframe,
    start=start_date,
    end=end_date
).df


# Drop nulls
df_crypto = df_crypto.dropna()

# Display sample data
df_crypto.head()


# Fetch the current prices from the DataFrame
btc_close_price = float(df_crypto["BTC"]["close"])
btc_close_price

eth_close_price = float(df_crypto["ETH"]["close"])
eth_close_price


# Compute the current value in dollars of the crypto portfolio
btc_value = btc_price * df_crypto.loc["BTC"]["crypto"]
eth_value = eth_price * df_crypto.loc["ETH"]["crypto"]

# Print current crypto wallet balance
print(f"The current value of your {df_crypto.loc["BTC"]["crypto"]} BTC is ${btc_value:0.2f}")
print(f"The current value of your {df_crypto.loc["ETH"]["crypto"]} ETH is ${eth_value:0.2f}")




## Collect Investments Data Using Alpaca: SPY (stocks) and AGG (bonds)

# Current amount of shares
# Current amount of shares
Investments = {
    "investments": [50, 200]
}

# Set the tickers
tickers = ["spy", "agg"]


# Set Alpaca API key and secret
alpaca_api_key = os.getenv("ALPACA_API_KEY")
alpaca_secret_key = os.getenv("ALPACA_SECRET_KEY")

api = tradeapi.REST(
    alpaca_api_key,
    alpaca_secret_key,
    api_version = "v2"
)


# Format current date as ISO format
today = pd.Timestamp("2020-05-01", tz="America/New_York").isoformat()

# Set the tickers
tickers = ["AGG", "SPY"]

# Set timeframe to '1D' for Alpaca API
timeframe = "1D"

# Get current closing prices for SPY and AGG
df_portfolio = alpaca.get_barset(
    tickers,
    timeframe,
    start = today,
    end = today
).df


# Preview DataFrame
df_portfolio


# Fetch the current closing prices from the DataFrame
agg_close_price = float(df_portfolio["AGG"]["close"])
spy_close_price = float(df_portfolio["SPY"]["close"])
agg_close_price


# Pick AGG and SPY close prices
df_portfolio_year = alpaca.get_barset(
    tickers,
    timeframe,
    start = today,
    end = today,
    limit = 1000
).df

# Print AGG and SPY close prices
print(f"Current AGG closing price: ${agg_close_price}")
print(f"Current SPY closing price: ${spy_close_price}")

# Compute the current value of shares
df_current_value = df_closing_prices.pct_change().dropna()

# Print current value of share
print(f"The current value of your {my_spy} SPY shares is ${my_spy_value:0.2f}")
print(f"The current value of your {my_agg} AGG shares is ${my_agg_value:0.2f}")


## Savings Health Analysis
# Set monthly household income
monthly_income = 12000

# Create savings DataFrame
df_savings = pd.DataFrame()

# Display savings DataFrame
display(df_savings)

# Plot savings pie chart
df_savings.plot(kind='pie')



