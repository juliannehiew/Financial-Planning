# Unit 5 - Financial Planning

# Initial imports
import os
import requests
import pandas as pd
from dotenv import load_dotenv
import alpaca_trade_api as tradeapi
from MCForecastTools import MCSimulation

%matplotlib inline


# Load .env enviroment variables
load_dotenv()


## Part 1 - Personal Finance Planner
Collect Crypto Prices Using the requests Library

# Set current amount of crypto assets
crypto_assets = {
    "crypto": [1.2, 5.2]
}

# Set the tickers
tickers = ["BTC", "ETH"]

# Create the shares DataFrame
df_crypto = pd.DataFrame(crypto_assets, index=tickers)

# Display shares data
df_crypto


# Setup Alpaca API environment
alpaca_api_key = os.getenv("ALPACA_API_KEY")
alpaca_secret_key = os.getenv("ALPACA_SECRET_KEY")

api = tradeapi.REST(
    alpaca_api_key,
    alpaca_secret_key,
    api_version="v2"
)


# Crypto API URLs
btc_url = "https://api.alternative.me/v2/ticker/Bitcoin/?convert=USD"
eth_url = "https://api.alternative.me/v2/ticker/Ethereum/?convert=USD"

# Fetch current BTC price
btc_response_data = requests.get(btc_url).json()      

# Output data
btc_response_data


# Fetch current ETH price
eth_response_data = requests.get(eth_url).json()

# Output data
eth_response_data


# Set timeframe to '1D'
timeframe = "1D"

# Set start and end datetimes of 1 year, between now and 365 days ago.
start_date = pd.Timestamp("2020-11-01", tz="Australia/Sydney").isoformat()
end_date = pd.Timestamp("2021-11-01", tz="Australia/Sydney").isoformat()

# Set the tickers
tickers = ["BTC", "ETH"]

# Get current price data for BTC and ETH
df_crypto = api.get_barset(
    tickers,
    timeframe,
    start=start_date,
    end=end_date
).df


# Drop nulls
df_crypto = df_crypto.dropna()

# Display sample data
df_crypto.head()








# Print current crypto wallet balance
print(f"The current value of your {my_btc} BTC is ${my_btc_value:0.2f}")
print(f"The current value of your {my_eth} ETH is ${my_eth_value:0.2f}")


## Collect Investments Data Using Alpaca: SPY (stocks) and AGG (bonds)

# Current amount of shares
my_spy = 50
my_agg = 200

# Set Alpaca API key and secret
alpaca_api_key = os.getenv("ALPACA_API_KEY")
alpaca_secret_key = os.getenv("ALPACA_SECRET_KEY")

api = tradeapi.REST(
    alpaca_api_key,
    alpaca_secret_key,
    api_version = "v2"
)


