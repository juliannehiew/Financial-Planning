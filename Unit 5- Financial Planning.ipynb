# Unit 5 - Financial Planning

# Initial imports
import os
import requests
import pandas as pd
from dotenv import load_dotenv
import alpaca_trade_api as tradeapi
from MCForecastTools import MCSimulation

%matplotlib inline

os.getcwd()


# Load .env enviroment variables
load_dotenv()


## Part 1 - Personal Finance Planner
Collect Crypto Prices Using the requests Library

# Set current amount of crypto assets
my_btc = 1.2
my_eth = 5.3


# Crypto API URLs
btc_url = "https://api.alternative.me/v2/ticker/Bitcoin/?convert=USD"
eth_url = "https://api.alternative.me/v2/ticker/Ethereum/?convert=USD"

# Fetch current BTC price
btc_response_data = requests.get(btc_url).json()      

# Output data
btc_response_data

# Select quotes
my_btc_value = btc_response_data['data']
print(my_btc_value)

# Fetch current ETH price
eth_response_data = requests.get(eth_url).json()

# Output data
eth_response_data

Parse JSON and extract quotes
# Select quotes
my_eth_value = eth_response_data['data']
print(my_eth_value)

# Compute current value of my crypto
crypto = btc_response_data['data']['price'] + "of" + eth_response_data['data']['price']


# Print current crypto wallet balance
print(f"The current value of your {my_btc} BTC is ${my_btc_value:0.2f}")
print(f"The current value of your {my_eth} ETH is ${my_eth_value:0.2f}")


## Collect Investments Data Using Alpaca: SPY (stocks) and AGG (bonds)

# Current amount of shares
my_spy = 50
my_agg = 200

# Set Alpaca API key and secret
alpaca_api_key = os.getenv("ALPACA_API_KEY")
alpaca_secret_key = os.getenv("ALPACA_SECRET_KEY")

api = tradeapi.REST(
    alpaca_api_key,
    alpaca_secret_key,
    api_version = "v2"
)


